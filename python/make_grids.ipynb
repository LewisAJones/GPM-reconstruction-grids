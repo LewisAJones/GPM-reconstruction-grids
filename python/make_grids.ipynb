{
 "cells": [
  {
   "cell_type": "markdown",
   "id": "663a096b-64bd-4265-a763-dc8396c294c5",
   "metadata": {},
   "source": [
    "### This notebook generates time-dependent grids of reconstructed points from a reference h3 grid and a plate tectonic model"
   ]
  },
  {
   "cell_type": "code",
   "execution_count": 1,
   "id": "cc876416-49ee-4427-9c00-4e023936f14b",
   "metadata": {},
   "outputs": [],
   "source": [
    "from pathlib import Path\n",
    "import h3\n",
    "import numpy as np\n",
    "import pandas as pd\n",
    "import pygplates as pygp\n",
    "import cartopy.crs as crs        # only needed if plotting\n",
    "import matplotlib.pyplot as plt  # only needed if plotting"
   ]
  },
  {
   "cell_type": "markdown",
   "id": "3508d724-d7bf-46b4-a70b-5dc2abc66cdd",
   "metadata": {},
   "source": [
    "#### User-defined parameters"
   ]
  },
  {
   "cell_type": "code",
   "execution_count": 2,
   "id": "975b7019-05d0-481b-b5a3-cb5e872d2bdf",
   "metadata": {},
   "outputs": [],
   "source": [
    "h3_resolution = 4      # resolution of mesh in integer range: 0-15, where 0 is the coarsest resolution\n",
    "\n",
    "plate_model = 'MA16'   # plate model  \n",
    "static_polygons = pygp.FeatureCollection('plate_models/%s/%s_static_polygons.gpmlz' % (plate_model, plate_model))    # static polygon file\n",
    "rotation_model = 'plate_models/%s/%s_rotation_model.rot' % (plate_model, plate_model)        # rotation file\n",
    "anchor_plate = 0       # anchor plate ID (sets the effective reference frame) [*** this will generally be set to 0 ***]\n",
    "\n",
    "start = 1     # start time (in Ma) = youngest reconstruction step (e.g. not t=0)\n",
    "stop = 410    # stop time (in Ma) = oldest reconstruction step\n",
    "step = 1      # temporal step size (in Ma)\n",
    "\n",
    "output_dir = 'rotation_grids/%s' % plate_model\n",
    "Path(output_dir).mkdir(parents=True, exist_ok=True)\n",
    "rotation_grid = '%s/resolution_%s.csv' % (output_dir, h3_resolution)        # output file name\n",
    "\n",
    "plot_grids = 'n'  # plot the starting grid and any redundant points (y/n); this is useful for troubleshooting."
   ]
  },
  {
   "cell_type": "markdown",
   "id": "80a5d80a-0b49-45a8-b2d3-84dbbcc79204",
   "metadata": {},
   "source": [
    "#### Extract each static polygon and assign its corresponding plate ID to all h3 cells which fall within it"
   ]
  },
  {
   "cell_type": "code",
   "execution_count": 3,
   "id": "01b8f34f-3968-4990-a985-a9f5f64d3115",
   "metadata": {
    "tags": []
   },
   "outputs": [],
   "source": [
    "df = pd.DataFrame()\n",
    "for feature in static_polygons:\n",
    "    plate_id = feature.get_reconstruction_plate_id()\n",
    "    valid_time = feature.get_valid_time()\n",
    "    if valid_time[0] > 0 and valid_time[1] <= 0:   # ignore polygons that are only defined at t=0 or those which are not defined at t=0\n",
    "        geometries = feature.get_all_geometries()\n",
    "\n",
    "        for geometry in geometries:\n",
    "            geoJson_polygon = {'type': 'Polygon', 'coordinates': [geometry.to_lat_lon_list()]}\n",
    "            hexagons = list(h3.polyfill(geoJson_polygon, h3_resolution))\n",
    "            if hexagons:\n",
    "                centroids = [h3.h3_to_geo(x) for x in hexagons]\n",
    "                lats = [x[0] for x in centroids]\n",
    "                lons = [x[1] for x in centroids]\n",
    "                pids = [plate_id for x in centroids]\n",
    "                ages = [valid_time[0] for x in centroids]\n",
    "                \n",
    "                new_data = pd.DataFrame(list(zip(hexagons, lons, lats, pids, ages)),\n",
    "                                      columns =['h3', 'lng', 'lat', 'plt_id', 'max_age'])\n",
    "                \n",
    "                updated_df = pd.concat([df, new_data])\n",
    "                df = updated_df"
   ]
  },
  {
   "cell_type": "markdown",
   "id": "0dbad0f7-7508-452d-809c-20e090fe83d9",
   "metadata": {},
   "source": [
    "#### Plot grid (if desired) to ensure that the grid coverage is as expected"
   ]
  },
  {
   "cell_type": "code",
   "execution_count": 4,
   "id": "20a3e3ed-30f7-4a3a-a4aa-7d9dfae12cc4",
   "metadata": {},
   "outputs": [],
   "source": [
    "if plot_grids == 'y':\n",
    "    fig = plt.figure(figsize=(15,10))\n",
    "    ax = fig.add_subplot(1,1,1, projection=crs.PlateCarree())\n",
    "    #ax = fig.add_subplot(1,1,1, projection=crs.Orthographic(central_latitude=-90, central_longitude=0))\n",
    "    ax.stock_img()\n",
    "    ax.coastlines()\n",
    "    ax.gridlines()\n",
    "    plt.scatter(x=df.lng, y=df.lat, color=\"red\", s=2, transform=crs.PlateCarree())\n",
    "\n",
    "    for polygon in static_polygons:\n",
    "        for geometry in polygon.get_geometries():\n",
    "            vertices = geometry.to_lat_lon_array()\n",
    "\n",
    "            plt.plot(vertices[:, 1], vertices[:, 0], transform=crs.Geodetic(),  color='blue', linewidth=0.75)\n",
    "\n",
    "    #plt.savefig('ex.png')\n",
    "    plt.show()"
   ]
  },
  {
   "cell_type": "markdown",
   "id": "88ce601b-28c0-4b92-a3c9-fbaed2d63824",
   "metadata": {},
   "source": [
    "#### Check for duplicated h3 cells (that arise from imperfections in the plate polygons or from issues with h3).\n",
    "Note that h3, being underpinned by a Cartesian reference system, doesn't deal well with the polar regions, and the pole itself in particular. It also is unable to deal with polygons that stretch beyond 180 degrees of longitude (which polygons that cross the pole do by default). This will give rise to unexpected behavior, and so the plate polygon file may need to be adapted by dividing up polygons which cross the pole or which otherwise span more than 180 degrees of longitude. Other problems can arise where there are polygons with holes--the definitions of these inner rings in the .gpml and .shp formats appear not to be recognized by h3, and so again these polygons may need to be modified."
   ]
  },
  {
   "cell_type": "code",
   "execution_count": 5,
   "id": "e1472fc6-89ad-435c-b320-1c95ae638811",
   "metadata": {},
   "outputs": [],
   "source": [
    "duplicates = df[df.duplicated(['h3'])]  # find all duplicated points\n",
    "conflicts = df.groupby(['h3']).filter(lambda x: x['plt_id'].nunique() > 1) # find 'problematic' duplicates, where the plate IDs do not match\n",
    "\n",
    "if len(duplicates) != 0:\n",
    "    print('%i duplicated polygon coordinates detected, of which %i have conflicting plate IDs' % (len(duplicates), len(conflicts)/2)) \n",
    "    \n",
    "    if plot_grids == 'y':      \n",
    "        fig = plt.figure(figsize=(15,10))\n",
    "        ax = fig.add_subplot(1,1,1, projection=crs.PlateCarree())\n",
    "        #ax = fig.add_subplot(1,1,1, projection=crs.Orthographic(central_latitude=45, central_longitude=-120))\n",
    "        ax.stock_img()\n",
    "        ax.coastlines()\n",
    "        ax.gridlines()\n",
    "        plt.scatter(x=duplicates.lng, y=duplicates.lat, color=\"red\", s=2, transform=crs.PlateCarree())\n",
    "        plt.show()\n",
    "    \n",
    "    print ('All duplicates with conflicting plate IDs will be discarded; redundant duplicates will be condensed to a single set')\n",
    "    discard = conflicts['h3'].unique()\n",
    "    df = df[~df['h3'].isin(discard)]"
   ]
  },
  {
   "cell_type": "markdown",
   "id": "03b69e77-f2cd-4f88-97c3-53a35370b0c3",
   "metadata": {},
   "source": [
    "#### Convert grid points to pygplates reconstructable objects and reconstruct them at each time step"
   ]
  },
  {
   "cell_type": "code",
   "execution_count": 6,
   "id": "25ad0695-066f-41cf-9024-3cc2ee396954",
   "metadata": {},
   "outputs": [],
   "source": [
    "df = df.reset_index(drop=True)\n",
    "df['pygp_pts'] = df.apply(lambda row: pygp.PointOnSphere((row.lat, row.lng)), axis=1)            # convert lat/lons to pygplates point format and append as new column\n",
    "df['pygp_feature'] = df.apply(lambda row: pygp.Feature.create_reconstructable_feature(pygp.FeatureType.gpml_unclassified_feature,\n",
    "                                                                                      row.pygp_pts,\n",
    "                                                                                      name='reference_point',\n",
    "                                                                                      valid_time=(row.max_age, pygp.GeoTimeInstant.create_distant_future()),\n",
    "                                                                                      reconstruction_plate_id=row.plt_id), axis=1)"
   ]
  },
  {
   "cell_type": "code",
   "execution_count": 7,
   "id": "502d219f-7b1b-47af-b85e-f6be074d01ff",
   "metadata": {
    "tags": []
   },
   "outputs": [],
   "source": [
    "for t in range(start, stop+step, step):\n",
    "    #print ('time step', t)  # for high resolutions it can be helpful to routinely print the time-step to keep track of progress\n",
    "    \n",
    "    reconstruct = df.loc[(df['plt_id'] != np.nan) & (df['max_age'] >= t)].copy()  # for each timestep select subset of reconstructable points\n",
    "\n",
    "    reconstructed_geometries = []\n",
    "    pygp.reconstruct(reconstruct['pygp_feature'], rotation_model, reconstructed_geometries, t, anchor_plate_id = anchor_plate) # reconstruct points \n",
    "    \n",
    "    reconstructed_points = [x.get_reconstructed_geometry().to_lat_lon() for x in reconstructed_geometries]    # extract lat and lon from reconstructed points\n",
    "    reconstructed_lats = [x[0] for x in reconstructed_points]\n",
    "    reconstructed_lons = [x[1] for x in reconstructed_points]\n",
    "    reconstruct[f'lat_{t}'] = reconstructed_lats\n",
    "    reconstruct[f'lng_{t}'] = reconstructed_lons\n",
    "    df = pd.concat([df, reconstruct[f'lng_{t}'], reconstruct[f'lat_{t}']], axis=1, join='outer') # append reconstructed lat & lons back to dataframe"
   ]
  },
  {
   "cell_type": "markdown",
   "id": "78b384e5-7cfd-4203-bf4d-98963661dbf7",
   "metadata": {},
   "source": [
    "#### Clean and format the dataframe + export"
   ]
  },
  {
   "cell_type": "code",
   "execution_count": 8,
   "id": "3a3840e3-d9bb-48ca-9ee9-5cd4dc5d8b9a",
   "metadata": {
    "tags": []
   },
   "outputs": [],
   "source": [
    "df = df.drop(columns=['plt_id', 'max_age', 'pygp_pts', 'pygp_feature'])   # drop columns that we don't need\n",
    "df.to_csv(rotation_grid, index=False, na_rep='NA', float_format='%.4f')   # set format of NaNs + precision of floats and save"
   ]
  }
 ],
 "metadata": {
  "kernelspec": {
   "display_name": "Python 3 (ipykernel)",
   "language": "python",
   "name": "python3"
  },
  "language_info": {
   "codemirror_mode": {
    "name": "ipython",
    "version": 3
   },
   "file_extension": ".py",
   "mimetype": "text/x-python",
   "name": "python",
   "nbconvert_exporter": "python",
   "pygments_lexer": "ipython3",
   "version": "3.8.10"
  }
 },
 "nbformat": 4,
 "nbformat_minor": 5
}
